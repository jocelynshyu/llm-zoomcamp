{
 "cells": [
  {
   "cell_type": "code",
   "execution_count": null,
   "id": "d0a983b9",
   "metadata": {},
   "outputs": [],
   "source": [
    "from sentence_transformers import SentenceTransformer\n",
    "from elasticsearch import Elasticsearch\n",
    "from tqdm.auto import tqdm\n",
    "import numpy as np\n",
    "import pandas as pd\n",
    "import requests"
   ]
  },
  {
   "cell_type": "code",
   "execution_count": null,
   "id": "caaa8b63",
   "metadata": {},
   "outputs": [],
   "source": [
    "course_name = 'machine-learning-zoomcamp'"
   ]
  },
  {
   "cell_type": "code",
   "execution_count": null,
   "id": "1348edd7",
   "metadata": {},
   "outputs": [],
   "source": [
    "base_url = 'https://github.com/DataTalksClub/llm-zoomcamp/blob/main'\n",
    "\n",
    "def get_json(endpoint):\n",
    "  docs_url = f'{base_url}/{endpoint}?raw=1'\n",
    "  docs_response = requests.get(docs_url)\n",
    "  return docs_response.json()\n",
    "\n",
    "def get_csv(endpoint):\n",
    "  docs_url = f'{base_url}/{endpoint}?raw=1'\n",
    "  return pd.read_csv(ground_truth_url)"
   ]
  },
  {
   "cell_type": "markdown",
   "id": "8b887563",
   "metadata": {},
   "source": [
    "# Question 1"
   ]
  },
  {
   "cell_type": "code",
   "execution_count": 23,
   "id": "c6589ed7-2a77-4d2e-b0d2-69654dfaa64f",
   "metadata": {},
   "outputs": [],
   "source": [
    "model_name = 'multi-qa-distilbert-cos-v1'\n",
    "user_question = \"I just discovered the course. Can I still join it?\"\n",
    "\n",
    "embedding_model = SentenceTransformer(model_name)\n",
    "embedding_vector = embedding_model.encode(user_question)"
   ]
  },
  {
   "cell_type": "code",
   "execution_count": null,
   "id": "92a88bf6-3552-43d7-a7ff-ad7ee391c299",
   "metadata": {},
   "outputs": [],
   "source": [
    "embedding_vector[0]"
   ]
  },
  {
   "cell_type": "markdown",
   "id": "c9041307",
   "metadata": {},
   "source": [
    "# Question 2"
   ]
  },
  {
   "cell_type": "code",
   "execution_count": 9,
   "id": "696d80cc-d6e2-4ce7-8651-c0470f1d4e2a",
   "metadata": {},
   "outputs": [],
   "source": [
    "documents = get_json('03-vector-search/eval/documents-with-ids.json')\n",
    "\n",
    "def filterCourse(q):\n",
    "    return q['course'] == course_name\n",
    "\n",
    "filtered_documents = list(filter(filterCourse, documents))\n",
    "len(filtered_documents)"
   ]
  },
  {
   "cell_type": "code",
   "execution_count": 26,
   "id": "3c87bdc1-2861-4557-b49e-b1bee7856587",
   "metadata": {},
   "outputs": [],
   "source": [
    "embeddings = []\n",
    "\n",
    "for document in filtered_documents:\n",
    "    qa_text = f\"{document['question']} {document['text']}\"\n",
    "    embedding = embedding_model.encode(qa_text)\n",
    "    embeddings.append(embedding)"
   ]
  },
  {
   "cell_type": "code",
   "execution_count": null,
   "id": "28948be3",
   "metadata": {},
   "outputs": [],
   "source": [
    "X = np.array(embeddings)"
   ]
  },
  {
   "cell_type": "code",
   "execution_count": null,
   "id": "5a185fe9-6004-4584-8880-3432ccd7bfa8",
   "metadata": {},
   "outputs": [],
   "source": [
    "X.shape"
   ]
  },
  {
   "cell_type": "markdown",
   "id": "b0a83c99",
   "metadata": {},
   "source": [
    "# Question 3"
   ]
  },
  {
   "cell_type": "code",
   "execution_count": 29,
   "id": "075c643c-4bed-4bab-9ed0-1dadf1405dd0",
   "metadata": {},
   "outputs": [],
   "source": [
    "scores = X.dot(embedding_vector)"
   ]
  },
  {
   "cell_type": "code",
   "execution_count": null,
   "id": "b9e60484-45f4-4b47-9ea6-6b1ae4dd085c",
   "metadata": {},
   "outputs": [],
   "source": [
    "max(scores)"
   ]
  },
  {
   "cell_type": "markdown",
   "id": "4b157562",
   "metadata": {},
   "source": [
    "# Question 4"
   ]
  },
  {
   "cell_type": "code",
   "execution_count": null,
   "id": "25b53c05-1059-43ea-b538-4d9157bfc971",
   "metadata": {},
   "outputs": [],
   "source": [
    "class VectorSearchEngine():\n",
    "    def __init__(self, documents, embeddings):\n",
    "        self.documents = documents\n",
    "        self.embeddings = embeddings\n",
    "\n",
    "    def search(self, v_query, num_results=10):\n",
    "        scores = self.embeddings.dot(v_query)\n",
    "        idx = np.argsort(-scores)[:num_results]\n",
    "        return [self.documents[i] for i in idx]\n",
    "\n",
    "## usage\n",
    "# search_engine = VectorSearchEngine(documents=documents, embeddings=X)\n",
    "# search_engine.search(embedding_vector, num_results=5)"
   ]
  },
  {
   "cell_type": "code",
   "execution_count": null,
   "id": "21cfd3ae",
   "metadata": {},
   "outputs": [],
   "source": [
    "df_ground_truth = get_csv('03-vector-search/eval/ground-truth-data.csv')\n",
    "df_ground_truth = df_ground_truth[df_ground_truth.course == course_name]\n",
    "ground_truth = df_ground_truth.to_dict(orient='records')\n",
    "\n",
    "search_engine = VectorSearchEngine(documents=ground_truth, embeddings=X)"
   ]
  },
  {
   "cell_type": "code",
   "execution_count": 51,
   "id": "37342a14-c673-4360-b812-151d163ed35e",
   "metadata": {},
   "outputs": [],
   "source": [
    "results = [];\n",
    "\n",
    "for record in ground_truth:\n",
    "    query = record['question']\n",
    "    document_id = record['document']\n",
    "    v_query = embedding_model.encode(query)\n",
    "    current_results = search_engine.search(v_query, num_results=5)\n",
    "    results.append(current_results)"
   ]
  },
  {
   "cell_type": "code",
   "execution_count": null,
   "id": "d5afd3ea",
   "metadata": {},
   "outputs": [],
   "source": [
    "hits = 0\n",
    "\n",
    "for arr in results:\n",
    "  if document_id in result['id']:\n",
    "    hits += 1\n",
    "    break"
   ]
  },
  {
   "cell_type": "code",
   "execution_count": null,
   "id": "99ff0487",
   "metadata": {},
   "outputs": [],
   "source": [
    "print('hits: ' + hits)\n",
    "print('len(ground_truth): ' + len(ground_truth))\n",
    "print('hitrate: ' + hits / len(ground_truth))"
   ]
  },
  {
   "cell_type": "markdown",
   "id": "0280592e",
   "metadata": {},
   "source": [
    "# Question 5"
   ]
  },
  {
   "cell_type": "code",
   "execution_count": null,
   "id": "77179820",
   "metadata": {},
   "outputs": [],
   "source": [
    "es_client = Elasticsearch('http://localhost:9200')"
   ]
  },
  {
   "cell_type": "code",
   "execution_count": null,
   "id": "279d6a98",
   "metadata": {},
   "outputs": [],
   "source": [
    "index_name = \"course-questions\"\n",
    "\n",
    "index_settings = {\n",
    "    \"settings\": {\n",
    "        \"number_of_shards\": 1,\n",
    "        \"number_of_replicas\": 0\n",
    "    },\n",
    "    \"mappings\": {\n",
    "        \"properties\": {\n",
    "            \"text\": {\"type\": \"text\"},\n",
    "            \"section\": {\"type\": \"text\"},\n",
    "            \"question\": {\"type\": \"text\"},\n",
    "            \"course\": {\"type\": \"keyword\"} ,\n",
    "            \"text_vector\": {\n",
    "                \"type\": \"dense_vector\",\n",
    "                \"dims\": 768,\n",
    "                \"index\": True,\n",
    "                \"similarity\": \"cosine\"\n",
    "            },\n",
    "        }\n",
    "    }\n",
    "}"
   ]
  },
  {
   "cell_type": "code",
   "execution_count": null,
   "id": "90d7d100",
   "metadata": {},
   "outputs": [],
   "source": [
    "es_client.indices.delete(index=index_name, ignore_unavailable=True)\n",
    "es_client.indices.create(index=index_name, body=index_settings)"
   ]
  },
  {
   "cell_type": "code",
   "execution_count": null,
   "id": "0bc82e6a",
   "metadata": {},
   "outputs": [],
   "source": [
    "for doc in tqdm(ground_truth):\n",
    "    es_client.index(index=index_name, document=doc)"
   ]
  },
  {
   "cell_type": "code",
   "execution_count": null,
   "id": "0f361649",
   "metadata": {},
   "outputs": [],
   "source": [
    "response = es_client.search(index=index_name, body=user_question)"
   ]
  },
  {
   "cell_type": "code",
   "execution_count": null,
   "id": "f194c6a6",
   "metadata": {},
   "outputs": [],
   "source": [
    "response"
   ]
  },
  {
   "cell_type": "markdown",
   "id": "2f4f270b",
   "metadata": {},
   "source": [
    "# Question 6"
   ]
  }
 ],
 "metadata": {
  "kernelspec": {
   "display_name": "Python 3 (ipykernel)",
   "language": "python",
   "name": "python3"
  },
  "language_info": {
   "codemirror_mode": {
    "name": "ipython",
    "version": 3
   },
   "file_extension": ".py",
   "mimetype": "text/x-python",
   "name": "python",
   "nbconvert_exporter": "python",
   "pygments_lexer": "ipython3",
   "version": "3.10.13"
  }
 },
 "nbformat": 4,
 "nbformat_minor": 5
}
